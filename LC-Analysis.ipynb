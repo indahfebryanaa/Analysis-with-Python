{
 "cells": [
  {
   "cell_type": "markdown",
   "id": "1a55d2c8",
   "metadata": {},
   "source": [
    "# Analisis Prediksi Kanker Paru-Paru Berdasarkan Berbagai Macam Gejala"
   ]
  },
  {
   "cell_type": "markdown",
   "id": "e343e28c",
   "metadata": {},
   "source": [
    "Kanker paru-paru adalah kanker yang bermula dari permasalahan pada organ paru-paru. Kanker paru-paru merupakan salah satu penyebab utama kematian karena akibat kanker di seluruh dunia. Salah satu penyebab utama kanker paru-paru yaitu merokok, bahkan orang yang tidak merokok namun berada di lingkungan perokok tidak menutup kemungkinan untuk terkena kanker paru-paru. \n",
    "\n",
    "Terdapat beberapa penyakit yang dapat diidentifikasi sebagai gejala kanker paru-paru seperti jari yang menguning, kecemasan berlebihan, mudah lelah, batuk-batuk, kesulitan mengunyah, nafas yang pendek, sakit pada dada, dan beberapa penyakit lainnya. \n",
    "\n",
    "Untuk itu, kami melakukan analisis ini dengan tujuan untuk membangun sebuah model yang dapat memprediksi terjadinya kanker paru-paru dengan menggunakan algoritma Logistic Regression, Random Forest Classifier, dan Gradient Boosting. Lalu, dari ke-3 algoritma tersebut akan dilihat mana yang memiliki performa terbaik menggunakan Classification Report dan Confusion Matrix"
   ]
  },
  {
   "cell_type": "code",
   "execution_count": 1,
   "id": "9236bb74",
   "metadata": {},
   "outputs": [],
   "source": [
    "# Mengimport library yang akan dibutuhkan\n",
    "import pandas as pd\n",
    "import numpy as np\n",
    "import matplotlib.pyplot as plt\n",
    "import seaborn as sns\n",
    "import warnings\n",
    "warnings.simplefilter(action='ignore', category=FutureWarning)"
   ]
  },
  {
   "cell_type": "code",
   "execution_count": 2,
   "id": "57948de3",
   "metadata": {},
   "outputs": [
    {
     "data": {
      "text/html": [
       "<div>\n",
       "<style scoped>\n",
       "    .dataframe tbody tr th:only-of-type {\n",
       "        vertical-align: middle;\n",
       "    }\n",
       "\n",
       "    .dataframe tbody tr th {\n",
       "        vertical-align: top;\n",
       "    }\n",
       "\n",
       "    .dataframe thead th {\n",
       "        text-align: right;\n",
       "    }\n",
       "</style>\n",
       "<table border=\"1\" class=\"dataframe\">\n",
       "  <thead>\n",
       "    <tr style=\"text-align: right;\">\n",
       "      <th></th>\n",
       "      <th>GENDER</th>\n",
       "      <th>AGE</th>\n",
       "      <th>SMOKING</th>\n",
       "      <th>YELLOW_FINGERS</th>\n",
       "      <th>ANXIETY</th>\n",
       "      <th>PEER_PRESSURE</th>\n",
       "      <th>CHRONIC DISEASE</th>\n",
       "      <th>FATIGUE</th>\n",
       "      <th>ALLERGY</th>\n",
       "      <th>WHEEZING</th>\n",
       "      <th>ALCOHOL CONSUMING</th>\n",
       "      <th>COUGHING</th>\n",
       "      <th>SHORTNESS OF BREATH</th>\n",
       "      <th>SWALLOWING DIFFICULTY</th>\n",
       "      <th>CHEST PAIN</th>\n",
       "      <th>LUNG_CANCER</th>\n",
       "    </tr>\n",
       "  </thead>\n",
       "  <tbody>\n",
       "    <tr>\n",
       "      <th>0</th>\n",
       "      <td>M</td>\n",
       "      <td>69</td>\n",
       "      <td>1</td>\n",
       "      <td>2</td>\n",
       "      <td>2</td>\n",
       "      <td>1</td>\n",
       "      <td>1</td>\n",
       "      <td>2</td>\n",
       "      <td>1</td>\n",
       "      <td>2</td>\n",
       "      <td>2</td>\n",
       "      <td>2</td>\n",
       "      <td>2</td>\n",
       "      <td>2</td>\n",
       "      <td>2</td>\n",
       "      <td>YES</td>\n",
       "    </tr>\n",
       "    <tr>\n",
       "      <th>1</th>\n",
       "      <td>M</td>\n",
       "      <td>74</td>\n",
       "      <td>2</td>\n",
       "      <td>1</td>\n",
       "      <td>1</td>\n",
       "      <td>1</td>\n",
       "      <td>2</td>\n",
       "      <td>2</td>\n",
       "      <td>2</td>\n",
       "      <td>1</td>\n",
       "      <td>1</td>\n",
       "      <td>1</td>\n",
       "      <td>2</td>\n",
       "      <td>2</td>\n",
       "      <td>2</td>\n",
       "      <td>YES</td>\n",
       "    </tr>\n",
       "    <tr>\n",
       "      <th>2</th>\n",
       "      <td>F</td>\n",
       "      <td>59</td>\n",
       "      <td>1</td>\n",
       "      <td>1</td>\n",
       "      <td>1</td>\n",
       "      <td>2</td>\n",
       "      <td>1</td>\n",
       "      <td>2</td>\n",
       "      <td>1</td>\n",
       "      <td>2</td>\n",
       "      <td>1</td>\n",
       "      <td>2</td>\n",
       "      <td>2</td>\n",
       "      <td>1</td>\n",
       "      <td>2</td>\n",
       "      <td>NO</td>\n",
       "    </tr>\n",
       "    <tr>\n",
       "      <th>3</th>\n",
       "      <td>M</td>\n",
       "      <td>63</td>\n",
       "      <td>2</td>\n",
       "      <td>2</td>\n",
       "      <td>2</td>\n",
       "      <td>1</td>\n",
       "      <td>1</td>\n",
       "      <td>1</td>\n",
       "      <td>1</td>\n",
       "      <td>1</td>\n",
       "      <td>2</td>\n",
       "      <td>1</td>\n",
       "      <td>1</td>\n",
       "      <td>2</td>\n",
       "      <td>2</td>\n",
       "      <td>NO</td>\n",
       "    </tr>\n",
       "    <tr>\n",
       "      <th>4</th>\n",
       "      <td>F</td>\n",
       "      <td>63</td>\n",
       "      <td>1</td>\n",
       "      <td>2</td>\n",
       "      <td>1</td>\n",
       "      <td>1</td>\n",
       "      <td>1</td>\n",
       "      <td>1</td>\n",
       "      <td>1</td>\n",
       "      <td>2</td>\n",
       "      <td>1</td>\n",
       "      <td>2</td>\n",
       "      <td>2</td>\n",
       "      <td>1</td>\n",
       "      <td>1</td>\n",
       "      <td>NO</td>\n",
       "    </tr>\n",
       "    <tr>\n",
       "      <th>...</th>\n",
       "      <td>...</td>\n",
       "      <td>...</td>\n",
       "      <td>...</td>\n",
       "      <td>...</td>\n",
       "      <td>...</td>\n",
       "      <td>...</td>\n",
       "      <td>...</td>\n",
       "      <td>...</td>\n",
       "      <td>...</td>\n",
       "      <td>...</td>\n",
       "      <td>...</td>\n",
       "      <td>...</td>\n",
       "      <td>...</td>\n",
       "      <td>...</td>\n",
       "      <td>...</td>\n",
       "      <td>...</td>\n",
       "    </tr>\n",
       "    <tr>\n",
       "      <th>304</th>\n",
       "      <td>F</td>\n",
       "      <td>56</td>\n",
       "      <td>1</td>\n",
       "      <td>1</td>\n",
       "      <td>1</td>\n",
       "      <td>2</td>\n",
       "      <td>2</td>\n",
       "      <td>2</td>\n",
       "      <td>1</td>\n",
       "      <td>1</td>\n",
       "      <td>2</td>\n",
       "      <td>2</td>\n",
       "      <td>2</td>\n",
       "      <td>2</td>\n",
       "      <td>1</td>\n",
       "      <td>YES</td>\n",
       "    </tr>\n",
       "    <tr>\n",
       "      <th>305</th>\n",
       "      <td>M</td>\n",
       "      <td>70</td>\n",
       "      <td>2</td>\n",
       "      <td>1</td>\n",
       "      <td>1</td>\n",
       "      <td>1</td>\n",
       "      <td>1</td>\n",
       "      <td>2</td>\n",
       "      <td>2</td>\n",
       "      <td>2</td>\n",
       "      <td>2</td>\n",
       "      <td>2</td>\n",
       "      <td>2</td>\n",
       "      <td>1</td>\n",
       "      <td>2</td>\n",
       "      <td>YES</td>\n",
       "    </tr>\n",
       "    <tr>\n",
       "      <th>306</th>\n",
       "      <td>M</td>\n",
       "      <td>58</td>\n",
       "      <td>2</td>\n",
       "      <td>1</td>\n",
       "      <td>1</td>\n",
       "      <td>1</td>\n",
       "      <td>1</td>\n",
       "      <td>1</td>\n",
       "      <td>2</td>\n",
       "      <td>2</td>\n",
       "      <td>2</td>\n",
       "      <td>2</td>\n",
       "      <td>1</td>\n",
       "      <td>1</td>\n",
       "      <td>2</td>\n",
       "      <td>YES</td>\n",
       "    </tr>\n",
       "    <tr>\n",
       "      <th>307</th>\n",
       "      <td>M</td>\n",
       "      <td>67</td>\n",
       "      <td>2</td>\n",
       "      <td>1</td>\n",
       "      <td>2</td>\n",
       "      <td>1</td>\n",
       "      <td>1</td>\n",
       "      <td>2</td>\n",
       "      <td>2</td>\n",
       "      <td>1</td>\n",
       "      <td>2</td>\n",
       "      <td>2</td>\n",
       "      <td>2</td>\n",
       "      <td>1</td>\n",
       "      <td>2</td>\n",
       "      <td>YES</td>\n",
       "    </tr>\n",
       "    <tr>\n",
       "      <th>308</th>\n",
       "      <td>M</td>\n",
       "      <td>62</td>\n",
       "      <td>1</td>\n",
       "      <td>1</td>\n",
       "      <td>1</td>\n",
       "      <td>2</td>\n",
       "      <td>1</td>\n",
       "      <td>2</td>\n",
       "      <td>2</td>\n",
       "      <td>2</td>\n",
       "      <td>2</td>\n",
       "      <td>1</td>\n",
       "      <td>1</td>\n",
       "      <td>2</td>\n",
       "      <td>1</td>\n",
       "      <td>YES</td>\n",
       "    </tr>\n",
       "  </tbody>\n",
       "</table>\n",
       "<p>309 rows × 16 columns</p>\n",
       "</div>"
      ],
      "text/plain": [
       "    GENDER  AGE  SMOKING  YELLOW_FINGERS  ANXIETY  PEER_PRESSURE  \\\n",
       "0        M   69        1               2        2              1   \n",
       "1        M   74        2               1        1              1   \n",
       "2        F   59        1               1        1              2   \n",
       "3        M   63        2               2        2              1   \n",
       "4        F   63        1               2        1              1   \n",
       "..     ...  ...      ...             ...      ...            ...   \n",
       "304      F   56        1               1        1              2   \n",
       "305      M   70        2               1        1              1   \n",
       "306      M   58        2               1        1              1   \n",
       "307      M   67        2               1        2              1   \n",
       "308      M   62        1               1        1              2   \n",
       "\n",
       "     CHRONIC DISEASE  FATIGUE   ALLERGY   WHEEZING  ALCOHOL CONSUMING  \\\n",
       "0                  1         2         1         2                  2   \n",
       "1                  2         2         2         1                  1   \n",
       "2                  1         2         1         2                  1   \n",
       "3                  1         1         1         1                  2   \n",
       "4                  1         1         1         2                  1   \n",
       "..               ...       ...       ...       ...                ...   \n",
       "304                2         2         1         1                  2   \n",
       "305                1         2         2         2                  2   \n",
       "306                1         1         2         2                  2   \n",
       "307                1         2         2         1                  2   \n",
       "308                1         2         2         2                  2   \n",
       "\n",
       "     COUGHING  SHORTNESS OF BREATH  SWALLOWING DIFFICULTY  CHEST PAIN  \\\n",
       "0           2                    2                      2           2   \n",
       "1           1                    2                      2           2   \n",
       "2           2                    2                      1           2   \n",
       "3           1                    1                      2           2   \n",
       "4           2                    2                      1           1   \n",
       "..        ...                  ...                    ...         ...   \n",
       "304         2                    2                      2           1   \n",
       "305         2                    2                      1           2   \n",
       "306         2                    1                      1           2   \n",
       "307         2                    2                      1           2   \n",
       "308         1                    1                      2           1   \n",
       "\n",
       "    LUNG_CANCER  \n",
       "0           YES  \n",
       "1           YES  \n",
       "2            NO  \n",
       "3            NO  \n",
       "4            NO  \n",
       "..          ...  \n",
       "304         YES  \n",
       "305         YES  \n",
       "306         YES  \n",
       "307         YES  \n",
       "308         YES  \n",
       "\n",
       "[309 rows x 16 columns]"
      ]
     },
     "execution_count": 2,
     "metadata": {},
     "output_type": "execute_result"
    }
   ],
   "source": [
    "# Mengimport dataset\n",
    "df_lc = pd.read_csv('survey lung cancer.csv')\n",
    "df_lc"
   ]
  },
  {
   "cell_type": "markdown",
   "id": "0ec79c7e",
   "metadata": {},
   "source": [
    "### Sumber Dataset\n",
    "Data kami dapatkan dari situs web kaggle: https://www.kaggle.com/datasets/nancyalaswad90/lung-cancer"
   ]
  },
  {
   "cell_type": "markdown",
   "id": "e5d149f4",
   "metadata": {},
   "source": [
    "# Data Exploration"
   ]
  },
  {
   "cell_type": "code",
   "execution_count": 3,
   "id": "c9590daf",
   "metadata": {},
   "outputs": [
    {
     "name": "stdout",
     "output_type": "stream",
     "text": [
      "<class 'pandas.core.frame.DataFrame'>\n",
      "RangeIndex: 309 entries, 0 to 308\n",
      "Data columns (total 16 columns):\n",
      " #   Column                 Non-Null Count  Dtype \n",
      "---  ------                 --------------  ----- \n",
      " 0   GENDER                 309 non-null    object\n",
      " 1   AGE                    309 non-null    int64 \n",
      " 2   SMOKING                309 non-null    int64 \n",
      " 3   YELLOW_FINGERS         309 non-null    int64 \n",
      " 4   ANXIETY                309 non-null    int64 \n",
      " 5   PEER_PRESSURE          309 non-null    int64 \n",
      " 6   CHRONIC DISEASE        309 non-null    int64 \n",
      " 7   FATIGUE                309 non-null    int64 \n",
      " 8   ALLERGY                309 non-null    int64 \n",
      " 9   WHEEZING               309 non-null    int64 \n",
      " 10  ALCOHOL CONSUMING      309 non-null    int64 \n",
      " 11  COUGHING               309 non-null    int64 \n",
      " 12  SHORTNESS OF BREATH    309 non-null    int64 \n",
      " 13  SWALLOWING DIFFICULTY  309 non-null    int64 \n",
      " 14  CHEST PAIN             309 non-null    int64 \n",
      " 15  LUNG_CANCER            309 non-null    object\n",
      "dtypes: int64(14), object(2)\n",
      "memory usage: 38.8+ KB\n"
     ]
    }
   ],
   "source": [
    "df_lc.info()"
   ]
  },
  {
   "cell_type": "markdown",
   "id": "0e162aac",
   "metadata": {},
   "source": [
    "Dapat dilihat, semua kolom memiliki jumlah data yang sama sebanyak 309 baris."
   ]
  },
  {
   "cell_type": "code",
   "execution_count": 4,
   "id": "0748f2e7",
   "metadata": {},
   "outputs": [
    {
     "data": {
      "text/plain": [
       "Index(['GENDER', 'AGE', 'SMOKING', 'YELLOW_FINGERS', 'ANXIETY',\n",
       "       'PEER_PRESSURE', 'CHRONIC DISEASE', 'FATIGUE ', 'ALLERGY ', 'WHEEZING',\n",
       "       'ALCOHOL CONSUMING', 'COUGHING', 'SHORTNESS OF BREATH',\n",
       "       'SWALLOWING DIFFICULTY', 'CHEST PAIN', 'LUNG_CANCER'],\n",
       "      dtype='object')"
      ]
     },
     "execution_count": 4,
     "metadata": {},
     "output_type": "execute_result"
    }
   ],
   "source": [
    "df_lc.columns"
   ]
  },
  {
   "cell_type": "markdown",
   "id": "3e4834d0",
   "metadata": {},
   "source": [
    "### Penjelasan Kolom\n",
    "1. GENDER: M(male), F(female) = Jenis Kelamin\n",
    "2. AGE: Umur Pasien\n",
    "3. SMOKING**: Apakah pasien merokok atau tidak.*\n",
    "4. YELLOW_FINGERS**: Apakah pasien mengalami gejala yellow fingers atau tidak\n",
    "5. ANXIETY**: Apakah pasien mengidap anxiety disorder atau tidak.\n",
    "6. PEER_PRESSURE**: Apakah pasien mengalami tekanan sosial atau tidak.\n",
    "7. CHRONIC DISEASE**: Apakah pasien mengidap penyakit kronis atau tidak.\n",
    "8. FATIGUE**: Apakah pasien merasakan lelah yang akut atau tidak.\n",
    "9. ALLERGY**: Apakah pasien memiliki alergi atau tidak.\n",
    "10. WHEEZING**: Apakah pasien mengidap mengi atau tidak.\n",
    "11. ALCOHOL CONSUMING**: Apakah pasien mengkonsumsi alkohol atau tidak.\n",
    "12. COUGHING**: Apakah pasien mengalami batuk-batuk atau tidak.\n",
    "13. SHORTNESS OF BREATH**: Apakah pasien mengalami kesulitan/sesak napas.\n",
    "14. SWALLOWING DIFFICULTY**: Apakah pasien mengalami kesulitan menelan atau tidak.\n",
    "15. CHEST PAIN**: Apakah pasien mengalami nyeri dada atau tidak.\n",
    "16. Lung Cancer: Apakah pasien mengidap kanker paru-paru. (Yes/No)\n",
    "\n",
    "** 2 = YES, 1 = NO"
   ]
  },
  {
   "cell_type": "code",
   "execution_count": 5,
   "id": "951942b0",
   "metadata": {},
   "outputs": [
    {
     "data": {
      "text/html": [
       "<div>\n",
       "<style scoped>\n",
       "    .dataframe tbody tr th:only-of-type {\n",
       "        vertical-align: middle;\n",
       "    }\n",
       "\n",
       "    .dataframe tbody tr th {\n",
       "        vertical-align: top;\n",
       "    }\n",
       "\n",
       "    .dataframe thead th {\n",
       "        text-align: right;\n",
       "    }\n",
       "</style>\n",
       "<table border=\"1\" class=\"dataframe\">\n",
       "  <thead>\n",
       "    <tr style=\"text-align: right;\">\n",
       "      <th></th>\n",
       "      <th>AGE</th>\n",
       "      <th>SMOKING</th>\n",
       "      <th>YELLOW_FINGERS</th>\n",
       "      <th>ANXIETY</th>\n",
       "      <th>PEER_PRESSURE</th>\n",
       "      <th>CHRONIC DISEASE</th>\n",
       "      <th>FATIGUE</th>\n",
       "      <th>ALLERGY</th>\n",
       "      <th>WHEEZING</th>\n",
       "      <th>ALCOHOL CONSUMING</th>\n",
       "      <th>COUGHING</th>\n",
       "      <th>SHORTNESS OF BREATH</th>\n",
       "      <th>SWALLOWING DIFFICULTY</th>\n",
       "      <th>CHEST PAIN</th>\n",
       "    </tr>\n",
       "  </thead>\n",
       "  <tbody>\n",
       "    <tr>\n",
       "      <th>count</th>\n",
       "      <td>309.000000</td>\n",
       "      <td>309.000000</td>\n",
       "      <td>309.000000</td>\n",
       "      <td>309.000000</td>\n",
       "      <td>309.000000</td>\n",
       "      <td>309.000000</td>\n",
       "      <td>309.000000</td>\n",
       "      <td>309.000000</td>\n",
       "      <td>309.000000</td>\n",
       "      <td>309.000000</td>\n",
       "      <td>309.000000</td>\n",
       "      <td>309.000000</td>\n",
       "      <td>309.000000</td>\n",
       "      <td>309.000000</td>\n",
       "    </tr>\n",
       "    <tr>\n",
       "      <th>mean</th>\n",
       "      <td>62.673139</td>\n",
       "      <td>1.563107</td>\n",
       "      <td>1.569579</td>\n",
       "      <td>1.498382</td>\n",
       "      <td>1.501618</td>\n",
       "      <td>1.504854</td>\n",
       "      <td>1.673139</td>\n",
       "      <td>1.556634</td>\n",
       "      <td>1.556634</td>\n",
       "      <td>1.556634</td>\n",
       "      <td>1.579288</td>\n",
       "      <td>1.640777</td>\n",
       "      <td>1.469256</td>\n",
       "      <td>1.556634</td>\n",
       "    </tr>\n",
       "    <tr>\n",
       "      <th>std</th>\n",
       "      <td>8.210301</td>\n",
       "      <td>0.496806</td>\n",
       "      <td>0.495938</td>\n",
       "      <td>0.500808</td>\n",
       "      <td>0.500808</td>\n",
       "      <td>0.500787</td>\n",
       "      <td>0.469827</td>\n",
       "      <td>0.497588</td>\n",
       "      <td>0.497588</td>\n",
       "      <td>0.497588</td>\n",
       "      <td>0.494474</td>\n",
       "      <td>0.480551</td>\n",
       "      <td>0.499863</td>\n",
       "      <td>0.497588</td>\n",
       "    </tr>\n",
       "    <tr>\n",
       "      <th>min</th>\n",
       "      <td>21.000000</td>\n",
       "      <td>1.000000</td>\n",
       "      <td>1.000000</td>\n",
       "      <td>1.000000</td>\n",
       "      <td>1.000000</td>\n",
       "      <td>1.000000</td>\n",
       "      <td>1.000000</td>\n",
       "      <td>1.000000</td>\n",
       "      <td>1.000000</td>\n",
       "      <td>1.000000</td>\n",
       "      <td>1.000000</td>\n",
       "      <td>1.000000</td>\n",
       "      <td>1.000000</td>\n",
       "      <td>1.000000</td>\n",
       "    </tr>\n",
       "    <tr>\n",
       "      <th>25%</th>\n",
       "      <td>57.000000</td>\n",
       "      <td>1.000000</td>\n",
       "      <td>1.000000</td>\n",
       "      <td>1.000000</td>\n",
       "      <td>1.000000</td>\n",
       "      <td>1.000000</td>\n",
       "      <td>1.000000</td>\n",
       "      <td>1.000000</td>\n",
       "      <td>1.000000</td>\n",
       "      <td>1.000000</td>\n",
       "      <td>1.000000</td>\n",
       "      <td>1.000000</td>\n",
       "      <td>1.000000</td>\n",
       "      <td>1.000000</td>\n",
       "    </tr>\n",
       "    <tr>\n",
       "      <th>50%</th>\n",
       "      <td>62.000000</td>\n",
       "      <td>2.000000</td>\n",
       "      <td>2.000000</td>\n",
       "      <td>1.000000</td>\n",
       "      <td>2.000000</td>\n",
       "      <td>2.000000</td>\n",
       "      <td>2.000000</td>\n",
       "      <td>2.000000</td>\n",
       "      <td>2.000000</td>\n",
       "      <td>2.000000</td>\n",
       "      <td>2.000000</td>\n",
       "      <td>2.000000</td>\n",
       "      <td>1.000000</td>\n",
       "      <td>2.000000</td>\n",
       "    </tr>\n",
       "    <tr>\n",
       "      <th>75%</th>\n",
       "      <td>69.000000</td>\n",
       "      <td>2.000000</td>\n",
       "      <td>2.000000</td>\n",
       "      <td>2.000000</td>\n",
       "      <td>2.000000</td>\n",
       "      <td>2.000000</td>\n",
       "      <td>2.000000</td>\n",
       "      <td>2.000000</td>\n",
       "      <td>2.000000</td>\n",
       "      <td>2.000000</td>\n",
       "      <td>2.000000</td>\n",
       "      <td>2.000000</td>\n",
       "      <td>2.000000</td>\n",
       "      <td>2.000000</td>\n",
       "    </tr>\n",
       "    <tr>\n",
       "      <th>max</th>\n",
       "      <td>87.000000</td>\n",
       "      <td>2.000000</td>\n",
       "      <td>2.000000</td>\n",
       "      <td>2.000000</td>\n",
       "      <td>2.000000</td>\n",
       "      <td>2.000000</td>\n",
       "      <td>2.000000</td>\n",
       "      <td>2.000000</td>\n",
       "      <td>2.000000</td>\n",
       "      <td>2.000000</td>\n",
       "      <td>2.000000</td>\n",
       "      <td>2.000000</td>\n",
       "      <td>2.000000</td>\n",
       "      <td>2.000000</td>\n",
       "    </tr>\n",
       "  </tbody>\n",
       "</table>\n",
       "</div>"
      ],
      "text/plain": [
       "              AGE     SMOKING  YELLOW_FINGERS     ANXIETY  PEER_PRESSURE  \\\n",
       "count  309.000000  309.000000      309.000000  309.000000     309.000000   \n",
       "mean    62.673139    1.563107        1.569579    1.498382       1.501618   \n",
       "std      8.210301    0.496806        0.495938    0.500808       0.500808   \n",
       "min     21.000000    1.000000        1.000000    1.000000       1.000000   \n",
       "25%     57.000000    1.000000        1.000000    1.000000       1.000000   \n",
       "50%     62.000000    2.000000        2.000000    1.000000       2.000000   \n",
       "75%     69.000000    2.000000        2.000000    2.000000       2.000000   \n",
       "max     87.000000    2.000000        2.000000    2.000000       2.000000   \n",
       "\n",
       "       CHRONIC DISEASE    FATIGUE     ALLERGY     WHEEZING  ALCOHOL CONSUMING  \\\n",
       "count       309.000000  309.000000  309.000000  309.000000         309.000000   \n",
       "mean          1.504854    1.673139    1.556634    1.556634           1.556634   \n",
       "std           0.500787    0.469827    0.497588    0.497588           0.497588   \n",
       "min           1.000000    1.000000    1.000000    1.000000           1.000000   \n",
       "25%           1.000000    1.000000    1.000000    1.000000           1.000000   \n",
       "50%           2.000000    2.000000    2.000000    2.000000           2.000000   \n",
       "75%           2.000000    2.000000    2.000000    2.000000           2.000000   \n",
       "max           2.000000    2.000000    2.000000    2.000000           2.000000   \n",
       "\n",
       "         COUGHING  SHORTNESS OF BREATH  SWALLOWING DIFFICULTY  CHEST PAIN  \n",
       "count  309.000000           309.000000             309.000000  309.000000  \n",
       "mean     1.579288             1.640777               1.469256    1.556634  \n",
       "std      0.494474             0.480551               0.499863    0.497588  \n",
       "min      1.000000             1.000000               1.000000    1.000000  \n",
       "25%      1.000000             1.000000               1.000000    1.000000  \n",
       "50%      2.000000             2.000000               1.000000    2.000000  \n",
       "75%      2.000000             2.000000               2.000000    2.000000  \n",
       "max      2.000000             2.000000               2.000000    2.000000  "
      ]
     },
     "execution_count": 5,
     "metadata": {},
     "output_type": "execute_result"
    }
   ],
   "source": [
    "df_lc.describe()"
   ]
  },
  {
   "cell_type": "markdown",
   "id": "75c1097e",
   "metadata": {},
   "source": [
    "# Data Preparation"
   ]
  },
  {
   "cell_type": "code",
   "execution_count": 6,
   "id": "85264a8e",
   "metadata": {},
   "outputs": [
    {
     "data": {
      "text/plain": [
       "GENDER                   0\n",
       "AGE                      0\n",
       "SMOKING                  0\n",
       "YELLOW_FINGERS           0\n",
       "ANXIETY                  0\n",
       "PEER_PRESSURE            0\n",
       "CHRONIC DISEASE          0\n",
       "FATIGUE                  0\n",
       "ALLERGY                  0\n",
       "WHEEZING                 0\n",
       "ALCOHOL CONSUMING        0\n",
       "COUGHING                 0\n",
       "SHORTNESS OF BREATH      0\n",
       "SWALLOWING DIFFICULTY    0\n",
       "CHEST PAIN               0\n",
       "LUNG_CANCER              0\n",
       "dtype: int64"
      ]
     },
     "execution_count": 6,
     "metadata": {},
     "output_type": "execute_result"
    }
   ],
   "source": [
    "# Pengecekan nilai null pada data\n",
    "df_lc.isnull().sum()"
   ]
  },
  {
   "cell_type": "code",
   "execution_count": 7,
   "id": "ca266807",
   "metadata": {},
   "outputs": [
    {
     "data": {
      "text/html": [
       "<div>\n",
       "<style scoped>\n",
       "    .dataframe tbody tr th:only-of-type {\n",
       "        vertical-align: middle;\n",
       "    }\n",
       "\n",
       "    .dataframe tbody tr th {\n",
       "        vertical-align: top;\n",
       "    }\n",
       "\n",
       "    .dataframe thead th {\n",
       "        text-align: right;\n",
       "    }\n",
       "</style>\n",
       "<table border=\"1\" class=\"dataframe\">\n",
       "  <thead>\n",
       "    <tr style=\"text-align: right;\">\n",
       "      <th></th>\n",
       "      <th>GENDER</th>\n",
       "      <th>AGE</th>\n",
       "      <th>SMOKING</th>\n",
       "      <th>YELLOW_FINGERS</th>\n",
       "      <th>ANXIETY</th>\n",
       "      <th>PEER_PRESSURE</th>\n",
       "      <th>CHRONIC DISEASE</th>\n",
       "      <th>FATIGUE</th>\n",
       "      <th>ALLERGY</th>\n",
       "      <th>WHEEZING</th>\n",
       "      <th>ALCOHOL CONSUMING</th>\n",
       "      <th>COUGHING</th>\n",
       "      <th>SHORTNESS OF BREATH</th>\n",
       "      <th>SWALLOWING DIFFICULTY</th>\n",
       "      <th>CHEST PAIN</th>\n",
       "      <th>LUNG_CANCER</th>\n",
       "    </tr>\n",
       "  </thead>\n",
       "  <tbody>\n",
       "    <tr>\n",
       "      <th>0</th>\n",
       "      <td>False</td>\n",
       "      <td>False</td>\n",
       "      <td>False</td>\n",
       "      <td>False</td>\n",
       "      <td>False</td>\n",
       "      <td>False</td>\n",
       "      <td>False</td>\n",
       "      <td>False</td>\n",
       "      <td>False</td>\n",
       "      <td>False</td>\n",
       "      <td>False</td>\n",
       "      <td>False</td>\n",
       "      <td>False</td>\n",
       "      <td>False</td>\n",
       "      <td>False</td>\n",
       "      <td>False</td>\n",
       "    </tr>\n",
       "    <tr>\n",
       "      <th>1</th>\n",
       "      <td>False</td>\n",
       "      <td>False</td>\n",
       "      <td>False</td>\n",
       "      <td>False</td>\n",
       "      <td>False</td>\n",
       "      <td>False</td>\n",
       "      <td>False</td>\n",
       "      <td>False</td>\n",
       "      <td>False</td>\n",
       "      <td>False</td>\n",
       "      <td>False</td>\n",
       "      <td>False</td>\n",
       "      <td>False</td>\n",
       "      <td>False</td>\n",
       "      <td>False</td>\n",
       "      <td>False</td>\n",
       "    </tr>\n",
       "    <tr>\n",
       "      <th>2</th>\n",
       "      <td>False</td>\n",
       "      <td>False</td>\n",
       "      <td>False</td>\n",
       "      <td>False</td>\n",
       "      <td>False</td>\n",
       "      <td>False</td>\n",
       "      <td>False</td>\n",
       "      <td>False</td>\n",
       "      <td>False</td>\n",
       "      <td>False</td>\n",
       "      <td>False</td>\n",
       "      <td>False</td>\n",
       "      <td>False</td>\n",
       "      <td>False</td>\n",
       "      <td>False</td>\n",
       "      <td>False</td>\n",
       "    </tr>\n",
       "    <tr>\n",
       "      <th>3</th>\n",
       "      <td>False</td>\n",
       "      <td>False</td>\n",
       "      <td>False</td>\n",
       "      <td>False</td>\n",
       "      <td>False</td>\n",
       "      <td>False</td>\n",
       "      <td>False</td>\n",
       "      <td>False</td>\n",
       "      <td>False</td>\n",
       "      <td>False</td>\n",
       "      <td>False</td>\n",
       "      <td>False</td>\n",
       "      <td>False</td>\n",
       "      <td>False</td>\n",
       "      <td>False</td>\n",
       "      <td>False</td>\n",
       "    </tr>\n",
       "    <tr>\n",
       "      <th>4</th>\n",
       "      <td>False</td>\n",
       "      <td>False</td>\n",
       "      <td>False</td>\n",
       "      <td>False</td>\n",
       "      <td>False</td>\n",
       "      <td>False</td>\n",
       "      <td>False</td>\n",
       "      <td>False</td>\n",
       "      <td>False</td>\n",
       "      <td>False</td>\n",
       "      <td>False</td>\n",
       "      <td>False</td>\n",
       "      <td>False</td>\n",
       "      <td>False</td>\n",
       "      <td>False</td>\n",
       "      <td>False</td>\n",
       "    </tr>\n",
       "    <tr>\n",
       "      <th>...</th>\n",
       "      <td>...</td>\n",
       "      <td>...</td>\n",
       "      <td>...</td>\n",
       "      <td>...</td>\n",
       "      <td>...</td>\n",
       "      <td>...</td>\n",
       "      <td>...</td>\n",
       "      <td>...</td>\n",
       "      <td>...</td>\n",
       "      <td>...</td>\n",
       "      <td>...</td>\n",
       "      <td>...</td>\n",
       "      <td>...</td>\n",
       "      <td>...</td>\n",
       "      <td>...</td>\n",
       "      <td>...</td>\n",
       "    </tr>\n",
       "    <tr>\n",
       "      <th>304</th>\n",
       "      <td>False</td>\n",
       "      <td>False</td>\n",
       "      <td>False</td>\n",
       "      <td>False</td>\n",
       "      <td>False</td>\n",
       "      <td>False</td>\n",
       "      <td>False</td>\n",
       "      <td>False</td>\n",
       "      <td>False</td>\n",
       "      <td>False</td>\n",
       "      <td>False</td>\n",
       "      <td>False</td>\n",
       "      <td>False</td>\n",
       "      <td>False</td>\n",
       "      <td>False</td>\n",
       "      <td>False</td>\n",
       "    </tr>\n",
       "    <tr>\n",
       "      <th>305</th>\n",
       "      <td>False</td>\n",
       "      <td>False</td>\n",
       "      <td>False</td>\n",
       "      <td>False</td>\n",
       "      <td>False</td>\n",
       "      <td>False</td>\n",
       "      <td>False</td>\n",
       "      <td>False</td>\n",
       "      <td>False</td>\n",
       "      <td>False</td>\n",
       "      <td>False</td>\n",
       "      <td>False</td>\n",
       "      <td>False</td>\n",
       "      <td>False</td>\n",
       "      <td>False</td>\n",
       "      <td>False</td>\n",
       "    </tr>\n",
       "    <tr>\n",
       "      <th>306</th>\n",
       "      <td>False</td>\n",
       "      <td>False</td>\n",
       "      <td>False</td>\n",
       "      <td>False</td>\n",
       "      <td>False</td>\n",
       "      <td>False</td>\n",
       "      <td>False</td>\n",
       "      <td>False</td>\n",
       "      <td>False</td>\n",
       "      <td>False</td>\n",
       "      <td>False</td>\n",
       "      <td>False</td>\n",
       "      <td>False</td>\n",
       "      <td>False</td>\n",
       "      <td>False</td>\n",
       "      <td>False</td>\n",
       "    </tr>\n",
       "    <tr>\n",
       "      <th>307</th>\n",
       "      <td>False</td>\n",
       "      <td>False</td>\n",
       "      <td>False</td>\n",
       "      <td>False</td>\n",
       "      <td>False</td>\n",
       "      <td>False</td>\n",
       "      <td>False</td>\n",
       "      <td>False</td>\n",
       "      <td>False</td>\n",
       "      <td>False</td>\n",
       "      <td>False</td>\n",
       "      <td>False</td>\n",
       "      <td>False</td>\n",
       "      <td>False</td>\n",
       "      <td>False</td>\n",
       "      <td>False</td>\n",
       "    </tr>\n",
       "    <tr>\n",
       "      <th>308</th>\n",
       "      <td>False</td>\n",
       "      <td>False</td>\n",
       "      <td>False</td>\n",
       "      <td>False</td>\n",
       "      <td>False</td>\n",
       "      <td>False</td>\n",
       "      <td>False</td>\n",
       "      <td>False</td>\n",
       "      <td>False</td>\n",
       "      <td>False</td>\n",
       "      <td>False</td>\n",
       "      <td>False</td>\n",
       "      <td>False</td>\n",
       "      <td>False</td>\n",
       "      <td>False</td>\n",
       "      <td>False</td>\n",
       "    </tr>\n",
       "  </tbody>\n",
       "</table>\n",
       "<p>309 rows × 16 columns</p>\n",
       "</div>"
      ],
      "text/plain": [
       "     GENDER    AGE  SMOKING  YELLOW_FINGERS  ANXIETY  PEER_PRESSURE  \\\n",
       "0     False  False    False           False    False          False   \n",
       "1     False  False    False           False    False          False   \n",
       "2     False  False    False           False    False          False   \n",
       "3     False  False    False           False    False          False   \n",
       "4     False  False    False           False    False          False   \n",
       "..      ...    ...      ...             ...      ...            ...   \n",
       "304   False  False    False           False    False          False   \n",
       "305   False  False    False           False    False          False   \n",
       "306   False  False    False           False    False          False   \n",
       "307   False  False    False           False    False          False   \n",
       "308   False  False    False           False    False          False   \n",
       "\n",
       "     CHRONIC DISEASE  FATIGUE   ALLERGY   WHEEZING  ALCOHOL CONSUMING  \\\n",
       "0              False     False     False     False              False   \n",
       "1              False     False     False     False              False   \n",
       "2              False     False     False     False              False   \n",
       "3              False     False     False     False              False   \n",
       "4              False     False     False     False              False   \n",
       "..               ...       ...       ...       ...                ...   \n",
       "304            False     False     False     False              False   \n",
       "305            False     False     False     False              False   \n",
       "306            False     False     False     False              False   \n",
       "307            False     False     False     False              False   \n",
       "308            False     False     False     False              False   \n",
       "\n",
       "     COUGHING  SHORTNESS OF BREATH  SWALLOWING DIFFICULTY  CHEST PAIN  \\\n",
       "0       False                False                  False       False   \n",
       "1       False                False                  False       False   \n",
       "2       False                False                  False       False   \n",
       "3       False                False                  False       False   \n",
       "4       False                False                  False       False   \n",
       "..        ...                  ...                    ...         ...   \n",
       "304     False                False                  False       False   \n",
       "305     False                False                  False       False   \n",
       "306     False                False                  False       False   \n",
       "307     False                False                  False       False   \n",
       "308     False                False                  False       False   \n",
       "\n",
       "     LUNG_CANCER  \n",
       "0          False  \n",
       "1          False  \n",
       "2          False  \n",
       "3          False  \n",
       "4          False  \n",
       "..           ...  \n",
       "304        False  \n",
       "305        False  \n",
       "306        False  \n",
       "307        False  \n",
       "308        False  \n",
       "\n",
       "[309 rows x 16 columns]"
      ]
     },
     "execution_count": 7,
     "metadata": {},
     "output_type": "execute_result"
    }
   ],
   "source": [
    "(df_lc == 'unknown')"
   ]
  },
  {
   "cell_type": "code",
   "execution_count": 8,
   "id": "fda3a074",
   "metadata": {},
   "outputs": [],
   "source": [
    "# Merubah typo pada kolom FATIGUE dan ALLERGY\n",
    "df_lc.rename({'FATIGUE ':'FATIGUE', 'ALLERGY ':'ALLERGY'},axis=1,inplace=True)"
   ]
  },
  {
   "cell_type": "code",
   "execution_count": 9,
   "id": "49b9eaf8",
   "metadata": {},
   "outputs": [],
   "source": [
    "# Merubah data 1(NO)/2(YES) menjadi 0(NO)/1(YES)\n",
    "for column in ['SMOKING','YELLOW_FINGERS','ANXIETY','PEER_PRESSURE','CHRONIC DISEASE','FATIGUE','ALLERGY','WHEEZING','ALCOHOL CONSUMING','COUGHING','SHORTNESS OF BREATH','SWALLOWING DIFFICULTY','CHEST PAIN']:\n",
    "    df_lc[column].replace([1,2],[0,1],inplace=True)"
   ]
  },
  {
   "cell_type": "code",
   "execution_count": 10,
   "id": "3298bad5",
   "metadata": {},
   "outputs": [],
   "source": [
    "# Merubah data pada kolom LUNG_CANCER dan GENDER yang masih berupa kata menjadi angka\n",
    "df_lc['LUNG_CANCER'].replace(['YES','NO'],[1,0],inplace=True)\n",
    "df_lc['GENDER'].replace(['M','F'],[1,0],inplace=True)"
   ]
  },
  {
   "cell_type": "code",
   "execution_count": 11,
   "id": "3356751c",
   "metadata": {},
   "outputs": [],
   "source": [
    "# Merubah tipe data kolom LUNG_CANCER menjadi integer\n",
    "df_lc['LUNG_CANCER'] = df_lc['LUNG_CANCER'].astype('int64')"
   ]
  },
  {
   "cell_type": "code",
   "execution_count": 12,
   "id": "d34051d0",
   "metadata": {},
   "outputs": [],
   "source": [
    "# Merubah tipe data kolom GENDER menjadi integer\n",
    "df_lc['GENDER'] = df_lc['GENDER'].astype('int64')"
   ]
  },
  {
   "cell_type": "code",
   "execution_count": 13,
   "id": "0d598d2e",
   "metadata": {},
   "outputs": [
    {
     "name": "stdout",
     "output_type": "stream",
     "text": [
      "<class 'pandas.core.frame.DataFrame'>\n",
      "RangeIndex: 309 entries, 0 to 308\n",
      "Data columns (total 16 columns):\n",
      " #   Column                 Non-Null Count  Dtype\n",
      "---  ------                 --------------  -----\n",
      " 0   GENDER                 309 non-null    int64\n",
      " 1   AGE                    309 non-null    int64\n",
      " 2   SMOKING                309 non-null    int64\n",
      " 3   YELLOW_FINGERS         309 non-null    int64\n",
      " 4   ANXIETY                309 non-null    int64\n",
      " 5   PEER_PRESSURE          309 non-null    int64\n",
      " 6   CHRONIC DISEASE        309 non-null    int64\n",
      " 7   FATIGUE                309 non-null    int64\n",
      " 8   ALLERGY                309 non-null    int64\n",
      " 9   WHEEZING               309 non-null    int64\n",
      " 10  ALCOHOL CONSUMING      309 non-null    int64\n",
      " 11  COUGHING               309 non-null    int64\n",
      " 12  SHORTNESS OF BREATH    309 non-null    int64\n",
      " 13  SWALLOWING DIFFICULTY  309 non-null    int64\n",
      " 14  CHEST PAIN             309 non-null    int64\n",
      " 15  LUNG_CANCER            309 non-null    int64\n",
      "dtypes: int64(16)\n",
      "memory usage: 38.8 KB\n"
     ]
    }
   ],
   "source": [
    "df_lc.info()"
   ]
  },
  {
   "cell_type": "markdown",
   "id": "6e2fb5a2",
   "metadata": {},
   "source": [
    "# Exploratory Data Analysis"
   ]
  },
  {
   "cell_type": "code",
   "execution_count": 14,
   "id": "402313bb",
   "metadata": {},
   "outputs": [
    {
     "data": {
      "text/plain": [
       "1    270\n",
       "0     39\n",
       "Name: LUNG_CANCER, dtype: int64"
      ]
     },
     "execution_count": 14,
     "metadata": {},
     "output_type": "execute_result"
    }
   ],
   "source": [
    "lungcase = df_lc.LUNG_CANCER.value_counts()\n",
    "lungcase"
   ]
  },
  {
   "cell_type": "markdown",
   "id": "67b4b4b6",
   "metadata": {},
   "source": [
    "### Jumlah Pasien yang mengidap Kanker Paru-paru"
   ]
  },
  {
   "cell_type": "code",
   "execution_count": 50,
   "id": "81ff2843",
   "metadata": {},
   "outputs": [
    {
     "data": {
      "image/png": "[encoded data removed]",
      "text/plain": [
       "<Figure size 432x288 with 1 Axes>"
      ]
     },
     "metadata": {
      "needs_background": "light"
     },
     "output_type": "display_data"
    }
   ],
   "source": [
    "sns.countplot(x='LUNG_CANCER',data=df_lc)\n",
    "plt.xlabel(\"Target(0 = Tidak mengidap kanker paru, 1 = Mengidap kanker paru)\")\n",
    "plt.show()"
   ]
  },
  {
   "cell_type": "markdown",
   "id": "b7578ff8",
   "metadata": {},
   "source": [
    "### Persentase Jumlah Pasien yang mengidap Kanker Paru-paru"
   ]
  },
  {
   "cell_type": "code",
   "execution_count": 49,
   "id": "b6c438e7",
   "metadata": {},
   "outputs": [
    {
     "data": {
      "image/png": "[encoded data removed]",
      "text/plain": [
       "<Figure size 432x288 with 1 Axes>"
      ]
     },
     "metadata": {},
     "output_type": "display_data"
    }
   ],
   "source": [
    "labels=\"Mengidap Kanker paru\",\"Tidak mengidap kanker paru\"\n",
    "explode=(0.09,0)\n",
    "colors=[\"#FF0000\",\"#0000FF\"]\n",
    "fig1, ax1 = plt.subplots()\n",
    "ax1.pie(lungcase, explode=explode, labels=labels, colors=colors, autopct='%1.1f%%',shadow=True, startangle=90)\n",
    "ax1.axis('equal')\n",
    "plt.title(\"Persentase Pasien yang mengidap dan tidak mengidap kanker paru\")\n",
    "plt.show()"
   ]
  },
  {
   "cell_type": "code",
   "execution_count": 17,
   "id": "f7b8ccab",
   "metadata": {},
   "outputs": [
    {
     "data": {
      "text/plain": [
       "1    162\n",
       "0    147\n",
       "Name: GENDER, dtype: int64"
      ]
     },
     "execution_count": 17,
     "metadata": {},
     "output_type": "execute_result"
    }
   ],
   "source": [
    "sex = df_lc.GENDER.value_counts()\n",
    "sex"
   ]
  },
  {
   "cell_type": "markdown",
   "id": "a137c4e3",
   "metadata": {},
   "source": [
    "### Jumlah Pasien yang mengidap Kanker Paru-paru berdasarkan Gender"
   ]
  },
  {
   "cell_type": "code",
   "execution_count": 52,
   "id": "2232b42d",
   "metadata": {},
   "outputs": [
    {
     "data": {
      "image/png": "[encoded data removed]",
      "text/plain": [
       "<Figure size 432x288 with 1 Axes>"
      ]
     },
     "metadata": {
      "needs_background": "light"
     },
     "output_type": "display_data"
    }
   ],
   "source": [
    "sns.countplot(x='GENDER',data=df_lc)\n",
    "plt.xlabel('Gender(0 = Wanita, 1 = Pria)')\n",
    "plt.show()"
   ]
  },
  {
   "cell_type": "markdown",
   "id": "af573d40",
   "metadata": {},
   "source": [
    "### Persentase Jumlah Pasien yang mengidap Kanker Paru-paru berdasarkan Gender"
   ]
  },
  {
   "cell_type": "code",
   "execution_count": 51,
   "id": "8ee3f353",
   "metadata": {},
   "outputs": [
    {
     "data": {
      "image/png": "[encoded data removed]",
      "text/plain": [
       "<Figure size 432x288 with 1 Axes>"
      ]
     },
     "metadata": {},
     "output_type": "display_data"
    }
   ],
   "source": [
    "labels=\"Pria\",\"Wanita\"\n",
    "explode=(0.09,0)\n",
    "fig1, ax1 = plt.subplots()\n",
    "ax1.pie(sex, explode=explode, labels=labels, colors=colors, autopct='%1.1f%%',shadow=True, startangle=90)\n",
    "ax1.axis('equal')\n",
    "plt.title(\"Persentasi Wanita vs Pria\")\n",
    "plt.show()"
   ]
  },
  {
   "cell_type": "code",
   "execution_count": 20,
   "id": "140ec4e7",
   "metadata": {},
   "outputs": [
    {
     "data": {
      "text/html": [
       "<div>\n",
       "<style scoped>\n",
       "    .dataframe tbody tr th:only-of-type {\n",
       "        vertical-align: middle;\n",
       "    }\n",
       "\n",
       "    .dataframe tbody tr th {\n",
       "        vertical-align: top;\n",
       "    }\n",
       "\n",
       "    .dataframe thead th {\n",
       "        text-align: right;\n",
       "    }\n",
       "</style>\n",
       "<table border=\"1\" class=\"dataframe\">\n",
       "  <thead>\n",
       "    <tr style=\"text-align: right;\">\n",
       "      <th>GENDER</th>\n",
       "      <th>0</th>\n",
       "      <th>1</th>\n",
       "    </tr>\n",
       "    <tr>\n",
       "      <th>LUNG_CANCER</th>\n",
       "      <th></th>\n",
       "      <th></th>\n",
       "    </tr>\n",
       "  </thead>\n",
       "  <tbody>\n",
       "    <tr>\n",
       "      <th>0</th>\n",
       "      <td>22</td>\n",
       "      <td>17</td>\n",
       "    </tr>\n",
       "    <tr>\n",
       "      <th>1</th>\n",
       "      <td>125</td>\n",
       "      <td>145</td>\n",
       "    </tr>\n",
       "  </tbody>\n",
       "</table>\n",
       "</div>"
      ],
      "text/plain": [
       "GENDER         0    1\n",
       "LUNG_CANCER          \n",
       "0             22   17\n",
       "1            125  145"
      ]
     },
     "execution_count": 20,
     "metadata": {},
     "output_type": "execute_result"
    }
   ],
   "source": [
    "crosstabST=pd.crosstab(df_lc.LUNG_CANCER,df_lc.GENDER)\n",
    "crosstabST"
   ]
  },
  {
   "cell_type": "markdown",
   "id": "ab7fe43e",
   "metadata": {},
   "source": [
    "### Frekuensi pengidap dan bukan pengidap Kanker Paru-paru berdasarkan Gender"
   ]
  },
  {
   "cell_type": "code",
   "execution_count": 53,
   "id": "454dc519",
   "metadata": {},
   "outputs": [
    {
     "data": {
      "text/plain": [
       "Text(0.5, 1.0, 'Frekuensi Pengidap Kanker Paru berdasarkan Gender')"
      ]
     },
     "execution_count": 53,
     "metadata": {},
     "output_type": "execute_result"
    },
    {
     "data": {
      "image/png": "[encoded data removed]",
      "text/plain": [
       "<Figure size 432x288 with 1 Axes>"
      ]
     },
     "metadata": {
      "needs_background": "light"
     },
     "output_type": "display_data"
    }
   ],
   "source": [
    "barplot=crosstabST.plot(kind='bar',rot=0)\n",
    "barplot.set_xticklabels(labels=['Mengidap Kanker Paru', \"Tidak Mengidap Kanker Paru\"],rotation=0)\n",
    "barplot.legend(['Wanita','Pria'])\n",
    "plt.ylabel(\"Jumlah\")\n",
    "plt.xlabel(\"Kanker Paru\")\n",
    "plt.title(\"Frekuensi Pengidap Kanker Paru berdasarkan Gender\")"
   ]
  },
  {
   "cell_type": "markdown",
   "id": "813e59a3",
   "metadata": {},
   "source": [
    "### Distribusi Umur dari Pengidap Kanker Paru-paru"
   ]
  },
  {
   "cell_type": "code",
   "execution_count": 60,
   "id": "2eb7b6ec",
   "metadata": {},
   "outputs": [
    {
     "data": {
      "image/png": "[encoded data removed]",
      "text/plain": [
       "<Figure size 864x360 with 2 Axes>"
      ]
     },
     "metadata": {
      "needs_background": "light"
     },
     "output_type": "display_data"
    }
   ],
   "source": [
    "fig, axs = plt.subplots(1, 2, figsize=(12,5))\n",
    "sns.histplot(ax = axs[0], data=df_lc, x='AGE', kde=True, hue='LUNG_CANCER')\n",
    "axs[0].set_title('Distribusi Umur Pengidap Kanker Paru')\n",
    "sns.countplot(ax = axs[1], data=df_lc, x='LUNG_CANCER', hue='LUNG_CANCER')\n",
    "axs[1].set_title('Total Of Case With Have And Do Not Have Lung Cancer')\n",
    "plt.show();"
   ]
  },
  {
   "cell_type": "code",
   "execution_count": 61,
   "id": "c78c4da1",
   "metadata": {},
   "outputs": [
    {
     "data": {
      "image/png": "[encoded data removed]",
      "text/plain": [
       "<Figure size 576x432 with 1 Axes>"
      ]
     },
     "metadata": {
      "needs_background": "light"
     },
     "output_type": "display_data"
    }
   ],
   "source": [
    "plt.figure(figsize=(8,6))\n",
    "sns.countplot('SMOKING', data=df_lc, hue = 'LUNG_CANCER')\n",
    "plt.legend(['No','Yes'])\n",
    "plt.title(\"Smoking Vs.Kanker Paru\")\n",
    "plt.show()"
   ]
  },
  {
   "cell_type": "code",
   "execution_count": 62,
   "id": "9f653526",
   "metadata": {},
   "outputs": [
    {
     "data": {
      "image/png": "[encoded data removed]",
      "text/plain": [
       "<Figure size 576x432 with 1 Axes>"
      ]
     },
     "metadata": {
      "needs_background": "light"
     },
     "output_type": "display_data"
    }
   ],
   "source": [
    "plt.figure(figsize=(8,6))\n",
    "sns.countplot('ALCOHOL CONSUMING', data=df_lc, hue = 'LUNG_CANCER')\n",
    "plt.title(\"ALCOHOL CONSUMING Vs. Kanker Paru\")\n",
    "plt.show()"
   ]
  },
  {
   "cell_type": "code",
   "execution_count": 65,
   "id": "207a39f5",
   "metadata": {},
   "outputs": [
    {
     "data": {
      "image/png": "[encoded data removed]",
      "text/plain": [
       "<Figure size 2160x576 with 5 Axes>"
      ]
     },
     "metadata": {
      "needs_background": "light"
     },
     "output_type": "display_data"
    }
   ],
   "source": [
    "fig, axs = plt.subplots(1, 5, figsize=(30,8))\n",
    "sns.countplot(ax=axs[0], data=df_lc, x='LUNG_CANCER', hue='YELLOW_FINGERS', palette='Set2')\n",
    "axs[0].set_title('Yellow Fingers Vs. Kanker Paru')\n",
    "sns.countplot(ax=axs[1], data=df_lc, x='LUNG_CANCER', hue='ANXIETY', palette='Set2')\n",
    "axs[1].set_title('Anxiety Vs. Kanker Paru')\n",
    "sns.countplot(ax=axs[2], data=df_lc, x='LUNG_CANCER', hue='PEER_PRESSURE', palette='Set2')\n",
    "axs[2].set_title('Peer Pressure Vs. Kanker Paru')\n",
    "sns.countplot(ax=axs[3], data=df_lc, x='LUNG_CANCER', hue='CHRONIC DISEASE', palette='Set2')\n",
    "axs[3].set_title('Chronic Disease Vs. Kanker Paru')\n",
    "sns.countplot(ax=axs[4], data=df_lc, x='LUNG_CANCER', hue='FATIGUE', palette='Set2')\n",
    "axs[4].set_title('Fatigue Vs. Kanker Paru')\n",
    "plt.show()"
   ]
  },
  {
   "cell_type": "code",
   "execution_count": 66,
   "id": "df1e029f",
   "metadata": {},
   "outputs": [
    {
     "data": {
      "image/png": "[encoded data removed]",
      "text/plain": [
       "<Figure size 2160x576 with 6 Axes>"
      ]
     },
     "metadata": {
      "needs_background": "light"
     },
     "output_type": "display_data"
    }
   ],
   "source": [
    "fig, axs = plt.subplots(1, 6, figsize=(30,8))\n",
    "sns.countplot(ax=axs[0], data=df_lc, x='LUNG_CANCER', hue='ALLERGY', palette='Paired')\n",
    "axs[0].set_title('Allergy Vs. Kanker Paru')\n",
    "sns.countplot(ax=axs[1], data=df_lc, x='LUNG_CANCER', hue='WHEEZING', palette='Paired')\n",
    "axs[1].set_title('wheezing Vs. Kanker Paru')\n",
    "sns.countplot(ax=axs[2], data=df_lc, x='LUNG_CANCER', hue='LUNG_CANCER', palette='Paired')\n",
    "axs[2].set_title('Coughing Vs. Kanker Paru')\n",
    "sns.countplot(ax=axs[3], data=df_lc, x='LUNG_CANCER', hue='SHORTNESS OF BREATH', palette='Paired')\n",
    "axs[3].set_title('shortness Of Breath Vs. Kanker Paru')\n",
    "sns.countplot(ax=axs[4], data=df_lc, x='LUNG_CANCER', hue='SWALLOWING DIFFICULTY', palette='Paired')\n",
    "axs[4].set_title('Swallowing Difficulty Vs. Kanker Paru')\n",
    "sns.countplot(ax=axs[5], data=df_lc, x='LUNG_CANCER', hue='CHEST PAIN', palette='Paired')\n",
    "axs[5].set_title('Chest Pain Vs. Kanker Paru')\n",
    "plt.show()"
   ]
  },
  {
   "cell_type": "markdown",
   "id": "7d5c8d2c",
   "metadata": {},
   "source": [
    "# Data Pre-Processing"
   ]
  },
  {
   "cell_type": "code",
   "execution_count": 27,
   "id": "f0932e8f",
   "metadata": {},
   "outputs": [],
   "source": [
    "y = df_lc.LUNG_CANCER.values\n",
    "x = df_lc.drop(['LUNG_CANCER'], axis = 1)"
   ]
  },
  {
   "cell_type": "code",
   "execution_count": 28,
   "id": "64fbd8ce",
   "metadata": {},
   "outputs": [],
   "source": [
    "from sklearn.model_selection import train_test_split\n",
    "\n",
    "x_train, x_test, y_train, y_test = train_test_split(x,y,test_size = 0.3,random_state=0)"
   ]
  },
  {
   "cell_type": "markdown",
   "id": "acacd64f",
   "metadata": {},
   "source": [
    "# Modeling Data"
   ]
  },
  {
   "cell_type": "markdown",
   "id": "c4345f81",
   "metadata": {},
   "source": [
    "### Logistic Regression"
   ]
  },
  {
   "cell_type": "code",
   "execution_count": 29,
   "id": "b9c6fd79",
   "metadata": {},
   "outputs": [
    {
     "name": "stderr",
     "output_type": "stream",
     "text": [
      "C:\\Users\\indah febryana\\anaconda3\\lib\\site-packages\\sklearn\\linear_model\\_logistic.py:814: ConvergenceWarning: lbfgs failed to converge (status=1):\n",
      "STOP: TOTAL NO. of ITERATIONS REACHED LIMIT.\n",
      "\n",
      "Increase the number of iterations (max_iter) or scale the data as shown in:\n",
      "    https://scikit-learn.org/stable/modules/preprocessing.html\n",
      "Please also refer to the documentation for alternative solver options:\n",
      "    https://scikit-learn.org/stable/modules/linear_model.html#logistic-regression\n",
      "  n_iter_i = _check_optimize_result(\n"
     ]
    }
   ],
   "source": [
    "from sklearn.linear_model import LogisticRegression\n",
    "\n",
    "log_model = LogisticRegression().fit(x_train, y_train)"
   ]
  },
  {
   "cell_type": "code",
   "execution_count": 30,
   "id": "e8be7969",
   "metadata": {},
   "outputs": [
    {
     "name": "stdout",
     "output_type": "stream",
     "text": [
      "Classification Report Training Model (Logistic Regression) :\n",
      "              precision    recall  f1-score   support\n",
      "\n",
      "           0       0.78      0.58      0.67        24\n",
      "           1       0.95      0.98      0.96       192\n",
      "\n",
      "    accuracy                           0.94       216\n",
      "   macro avg       0.86      0.78      0.82       216\n",
      "weighted avg       0.93      0.94      0.93       216\n",
      "\n",
      "\n",
      "Classification Report Testing Model (Logistic Regression):\n",
      "              precision    recall  f1-score   support\n",
      "\n",
      "           0       0.86      0.40      0.55        15\n",
      "           1       0.90      0.99      0.94        78\n",
      "\n",
      "    accuracy                           0.89        93\n",
      "   macro avg       0.88      0.69      0.74        93\n",
      "weighted avg       0.89      0.89      0.88        93\n",
      "\n"
     ]
    }
   ],
   "source": [
    "from sklearn.metrics import classification_report\n",
    "\n",
    "y_train_pred = log_model.predict(x_train)\n",
    "\n",
    "print('Classification Report Training Model (Logistic Regression) :')\n",
    "print(classification_report(y_train,y_train_pred))\n",
    "\n",
    "y_test_pred = log_model.predict(x_test)\n",
    "\n",
    "print('\\nClassification Report Testing Model (Logistic Regression):')\n",
    "print(classification_report(y_test, y_test_pred))"
   ]
  },
  {
   "cell_type": "code",
   "execution_count": 31,
   "id": "a8dddf1c",
   "metadata": {},
   "outputs": [],
   "source": [
    "from sklearn.metrics import confusion_matrix\n",
    "\n",
    "# Form confusion matrix as a DataFrame\n",
    "confusion_matrix_df = pd.DataFrame((confusion_matrix(y_train, y_train_pred)), ('0', '1'), ('0', '1'))"
   ]
  },
  {
   "cell_type": "code",
   "execution_count": 32,
   "id": "5f8fcdc9",
   "metadata": {},
   "outputs": [
    {
     "data": {
      "image/png": "[encoded data removed]",
      "text/plain": [
       "<Figure size 432x288 with 2 Axes>"
      ]
     },
     "metadata": {
      "needs_background": "light"
     },
     "output_type": "display_data"
    }
   ],
   "source": [
    "# Plot confusion matrix\n",
    "plt.figure()\n",
    "heatmap = sns.heatmap(confusion_matrix_df, annot=True, annot_kws={'size': 14}, fmt='d', cmap='YlGnBu')\n",
    "heatmap.yaxis.set_ticklabels(heatmap.yaxis.get_ticklabels(), rotation=0, ha='right', fontsize=14)\n",
    "heatmap.xaxis.set_ticklabels(heatmap.xaxis.get_ticklabels(), rotation=0, ha='right', fontsize=14)\n",
    "plt.title('Confusion Matrix for Training Model\\n(Logistic Regression)', fontsize=18, color='darkblue')\n",
    "plt.ylabel('True label', fontsize=14)\n",
    "plt.xlabel('Predicted label', fontsize=14)\n",
    "plt.tight_layout()\n",
    "plt.show()"
   ]
  },
  {
   "cell_type": "code",
   "execution_count": 33,
   "id": "96f87ccf",
   "metadata": {},
   "outputs": [],
   "source": [
    "# Form confusion matrix as a DataFrame\n",
    "confusion_matrix_df = pd.DataFrame((confusion_matrix(y_test, y_test_pred)), ('0', '1'), ('0', '1'))"
   ]
  },
  {
   "cell_type": "code",
   "execution_count": 34,
   "id": "23f4c2c7",
   "metadata": {},
   "outputs": [
    {
     "data": {
      "image/png": "[encoded data removed]",
      "text/plain": [
       "<Figure size 432x288 with 2 Axes>"
      ]
     },
     "metadata": {
      "needs_background": "light"
     },
     "output_type": "display_data"
    }
   ],
   "source": [
    "# Plot confusion matrix\n",
    "plt.figure()\n",
    "heatmap = sns.heatmap(confusion_matrix_df, annot=True, annot_kws={'size': 14}, fmt='d', cmap='YlGnBu')\n",
    "heatmap.yaxis.set_ticklabels(heatmap.yaxis.get_ticklabels(), rotation=0, ha='right', fontsize=14)\n",
    "heatmap.xaxis.set_ticklabels(heatmap.xaxis.get_ticklabels(), rotation=0, ha='right', fontsize=14)\n",
    "plt.title('Confusion Matrix for Testing Model\\n(Logistic Regression)', fontsize=18, color='darkblue')\n",
    "plt.ylabel('True label', fontsize=14)\n",
    "plt.xlabel('Predicted label', fontsize=14)\n",
    "plt.tight_layout()\n",
    "plt.show()"
   ]
  },
  {
   "cell_type": "markdown",
   "id": "36b21fdb",
   "metadata": {},
   "source": [
    "# Random Forest"
   ]
  },
  {
   "cell_type": "code",
   "execution_count": 35,
   "id": "76b30b31",
   "metadata": {},
   "outputs": [
    {
     "name": "stdout",
     "output_type": "stream",
     "text": [
      "RandomForestClassifier()\n"
     ]
    }
   ],
   "source": [
    "from sklearn.ensemble import RandomForestClassifier\n",
    "\n",
    "#Train the model\n",
    "rdf_model = RandomForestClassifier().fit(x_train, y_train)\n",
    "print(rdf_model)"
   ]
  },
  {
   "cell_type": "code",
   "execution_count": 36,
   "id": "baa705fb",
   "metadata": {},
   "outputs": [
    {
     "name": "stdout",
     "output_type": "stream",
     "text": [
      "Classification Report Training Model (Random Forest Classifier) :\n",
      "              precision    recall  f1-score   support\n",
      "\n",
      "           0       1.00      0.96      0.98        24\n",
      "           1       0.99      1.00      1.00       192\n",
      "\n",
      "    accuracy                           1.00       216\n",
      "   macro avg       1.00      0.98      0.99       216\n",
      "weighted avg       1.00      1.00      1.00       216\n",
      "\n"
     ]
    }
   ],
   "source": [
    "y_train_pred = rdf_model.predict(x_train)\n",
    "\n",
    "#~Print classification report\n",
    "print('Classification Report Training Model (Random Forest Classifier) :')\n",
    "print(classification_report(y_train,y_train_pred))"
   ]
  },
  {
   "cell_type": "code",
   "execution_count": 37,
   "id": "396a574b",
   "metadata": {},
   "outputs": [],
   "source": [
    "confusion_matrix_df = pd.DataFrame((confusion_matrix(y_train, y_train_pred)), ('0', '1'), ('0', '1'))"
   ]
  },
  {
   "cell_type": "code",
   "execution_count": 38,
   "id": "ff449b7d",
   "metadata": {},
   "outputs": [
    {
     "data": {
      "image/png": "[encoded data removed]",
      "text/plain": [
       "<Figure size 432x288 with 2 Axes>"
      ]
     },
     "metadata": {
      "needs_background": "light"
     },
     "output_type": "display_data"
    }
   ],
   "source": [
    "# Plot confusion matrix\n",
    "\n",
    "plt.figure()\n",
    "heatmap = sns.heatmap(confusion_matrix_df, annot=True, annot_kws={'size': 14}, fmt='d', cmap='YlGnBu')\n",
    "heatmap.yaxis.set_ticklabels(heatmap.yaxis.get_ticklabels(), rotation=0, ha='right', fontsize=14)\n",
    "heatmap.xaxis.set_ticklabels(heatmap.xaxis.get_ticklabels(), rotation=0, ha='right', fontsize=14)\n",
    "plt.title('Confusion Matrix for Training Model\\n(Random Forest)', fontsize=18, color='darkblue')\n",
    "plt.ylabel('True label', fontsize=14)\n",
    "plt.xlabel('Predicted label', fontsize=14)\n",
    "plt.tight_layout()\n",
    "plt.show()"
   ]
  },
  {
   "cell_type": "code",
   "execution_count": 39,
   "id": "6aa9f4c2",
   "metadata": {},
   "outputs": [
    {
     "name": "stdout",
     "output_type": "stream",
     "text": [
      "Classification Report Testing Model (Random Forest Classifier) :\n",
      "              precision    recall  f1-score   support\n",
      "\n",
      "           0       0.71      0.33      0.45        15\n",
      "           1       0.88      0.97      0.93        78\n",
      "\n",
      "    accuracy                           0.87        93\n",
      "   macro avg       0.80      0.65      0.69        93\n",
      "weighted avg       0.86      0.87      0.85        93\n",
      "\n"
     ]
    }
   ],
   "source": [
    "y_test_pred = rdf_model.predict(x_test)\n",
    "\n",
    "#~Print classification report\n",
    "print('Classification Report Testing Model (Random Forest Classifier) :')\n",
    "print(classification_report(y_test,y_test_pred))"
   ]
  },
  {
   "cell_type": "code",
   "execution_count": 40,
   "id": "c3ecaa07",
   "metadata": {},
   "outputs": [],
   "source": [
    "confusion_matrix_df = pd.DataFrame((confusion_matrix(y_test, y_test_pred)), ('0', '1'), ('0', '1'))"
   ]
  },
  {
   "cell_type": "code",
   "execution_count": 41,
   "id": "0f0763e2",
   "metadata": {},
   "outputs": [
    {
     "data": {
      "image/png": "[encoded data removed]",
      "text/plain": [
       "<Figure size 432x288 with 2 Axes>"
      ]
     },
     "metadata": {
      "needs_background": "light"
     },
     "output_type": "display_data"
    }
   ],
   "source": [
    "# Plot confusion matrix\n",
    "plt.figure()\n",
    "heatmap = sns.heatmap(confusion_matrix_df, annot=True, annot_kws={'size': 14}, fmt='d', cmap='YlGnBu')\n",
    "heatmap.yaxis.set_ticklabels(heatmap.yaxis.get_ticklabels(), rotation=0, ha='right', fontsize=14)\n",
    "heatmap.xaxis.set_ticklabels(heatmap.xaxis.get_ticklabels(), rotation=0, ha='right', fontsize=14)\n",
    "plt.title('Confusion Matrix for Testing Model\\n(Random Forest)', fontsize=18, color='darkblue')\n",
    "plt.ylabel('True label', fontsize=14)\n",
    "plt.xlabel('Predicted label', fontsize=14)\n",
    "plt.tight_layout()\n",
    "plt.show()"
   ]
  },
  {
   "cell_type": "markdown",
   "id": "b95f02a9",
   "metadata": {},
   "source": [
    "# Gradient Boosting"
   ]
  },
  {
   "cell_type": "code",
   "execution_count": 42,
   "id": "e06c48ce",
   "metadata": {},
   "outputs": [
    {
     "name": "stdout",
     "output_type": "stream",
     "text": [
      "GradientBoostingClassifier()\n"
     ]
    }
   ],
   "source": [
    "from sklearn.ensemble import GradientBoostingClassifier\n",
    "\n",
    "gbt_model = GradientBoostingClassifier().fit(x_train, y_train)\n",
    "print(gbt_model)"
   ]
  },
  {
   "cell_type": "code",
   "execution_count": 43,
   "id": "6b0111c9",
   "metadata": {},
   "outputs": [
    {
     "name": "stdout",
     "output_type": "stream",
     "text": [
      "Classification Report Training Model (Gradient Boosting Classifier) :\n",
      "              precision    recall  f1-score   support\n",
      "\n",
      "           0       0.92      1.00      0.96        24\n",
      "           1       1.00      0.99      0.99       192\n",
      "\n",
      "    accuracy                           0.99       216\n",
      "   macro avg       0.96      0.99      0.98       216\n",
      "weighted avg       0.99      0.99      0.99       216\n",
      "\n"
     ]
    }
   ],
   "source": [
    "y_train_pred = gbt_model.predict(x_train)\n",
    "\n",
    "#~Print classification report\n",
    "print('Classification Report Training Model (Gradient Boosting Classifier) :')\n",
    "print(classification_report(y_train,y_train_pred))"
   ]
  },
  {
   "cell_type": "code",
   "execution_count": 44,
   "id": "b32230e0",
   "metadata": {},
   "outputs": [],
   "source": [
    "confusion_matrix_df = pd.DataFrame((confusion_matrix(y_train, y_train_pred)), ('0', '1'), ('0', '1'))"
   ]
  },
  {
   "cell_type": "code",
   "execution_count": 45,
   "id": "d648fe4a",
   "metadata": {},
   "outputs": [
    {
     "data": {
      "image/png": "[encoded data removed]",
      "text/plain": [
       "<Figure size 432x288 with 2 Axes>"
      ]
     },
     "metadata": {
      "needs_background": "light"
     },
     "output_type": "display_data"
    }
   ],
   "source": [
    "# Plot confusion matrix\n",
    "plt.figure()\n",
    "heatmap = sns.heatmap(confusion_matrix_df, annot=True, annot_kws={'size': 14}, fmt='d', cmap='YlGnBu')\n",
    "heatmap.yaxis.set_ticklabels(heatmap.yaxis.get_ticklabels(), rotation=0, ha='right', fontsize=14)\n",
    "heatmap.xaxis.set_ticklabels(heatmap.xaxis.get_ticklabels(), rotation=0, ha='right', fontsize=14)\n",
    "plt.title('Confusion Matrix for Testing Model\\n(Gradient Boosting)', fontsize=18, color='darkblue')\n",
    "plt.ylabel('True label', fontsize=14)\n",
    "plt.xlabel('Predicted label', fontsize=14)\n",
    "plt.tight_layout()\n",
    "plt.show()"
   ]
  },
  {
   "cell_type": "code",
   "execution_count": 46,
   "id": "2a42357b",
   "metadata": {},
   "outputs": [
    {
     "name": "stdout",
     "output_type": "stream",
     "text": [
      "Classification Report Training Model (Gradient Boosting Classifier) :\n",
      "              precision    recall  f1-score   support\n",
      "\n",
      "           0       0.62      0.33      0.43        15\n",
      "           1       0.88      0.96      0.92        78\n",
      "\n",
      "    accuracy                           0.86        93\n",
      "   macro avg       0.75      0.65      0.68        93\n",
      "weighted avg       0.84      0.86      0.84        93\n",
      "\n"
     ]
    }
   ],
   "source": [
    "y_test_pred = gbt_model.predict(x_test)\n",
    "\n",
    "#~Print classification report\n",
    "print('Classification Report Training Model (Gradient Boosting Classifier) :')\n",
    "print(classification_report(y_test,y_test_pred))"
   ]
  },
  {
   "cell_type": "code",
   "execution_count": 47,
   "id": "f54e5617",
   "metadata": {},
   "outputs": [],
   "source": [
    "confusion_matrix_df = pd.DataFrame((confusion_matrix(y_test, y_test_pred)), ('0', '1'), ('0', '1'))"
   ]
  },
  {
   "cell_type": "code",
   "execution_count": 48,
   "id": "062b6ed5",
   "metadata": {},
   "outputs": [
    {
     "data": {
      "image/png": "[encoded data removed]",
      "text/plain": [
       "<Figure size 432x288 with 2 Axes>"
      ]
     },
     "metadata": {
      "needs_background": "light"
     },
     "output_type": "display_data"
    }
   ],
   "source": [
    "# Plot confusion matrix\n",
    "plt.figure()\n",
    "heatmap = sns.heatmap(confusion_matrix_df, annot=True, annot_kws={'size': 14}, fmt='d', cmap='YlGnBu')\n",
    "heatmap.yaxis.set_ticklabels(heatmap.yaxis.get_ticklabels(), rotation=0, ha='right', fontsize=14)\n",
    "heatmap.xaxis.set_ticklabels(heatmap.xaxis.get_ticklabels(), rotation=0, ha='right', fontsize=14)\n",
    "plt.title('Confusion Matrix for Testing Model\\n(Random Forest)', fontsize=18, color='darkblue')\n",
    "plt.ylabel('True label', fontsize=14)\n",
    "plt.xlabel('Predicted label', fontsize=14)\n",
    "plt.tight_layout()\n",
    "plt.show()"
   ]
  }
 ],
 "metadata": {
  "kernelspec": {
   "display_name": "Python 3 (ipykernel)",
   "language": "python",
   "name": "python3"
  },
  "language_info": {
   "codemirror_mode": {
    "name": "ipython",
    "version": 3
   },
   "file_extension": ".py",
   "mimetype": "text/x-python",
   "name": "python",
   "nbconvert_exporter": "python",
   "pygments_lexer": "ipython3",
   "version": "3.9.12"
  }
 },
 "nbformat": 4,
 "nbformat_minor": 5
}
